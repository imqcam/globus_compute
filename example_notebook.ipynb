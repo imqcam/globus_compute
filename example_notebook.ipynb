{
 "cells": [
  {
   "cell_type": "code",
   "execution_count": 1,
   "metadata": {},
   "outputs": [],
   "source": [
    "# imports\n",
    "import time\n",
    "from globus_compute_sdk import Client, Executor\n",
    "from globus_compute_sdk.serialize import CombinedCode"
   ]
  },
  {
   "cell_type": "markdown",
   "metadata": {},
   "source": [
    "#### Set the endpoint ID to use\n",
    "\n",
    "You should replace the `example_endpoint_id` value in the cell below with the value you got from authenticating to the Endpoint running in the Docker container on your system. Alternatively, you can use the publicly-available \"`tutorial_endpoint_id`\" but it's much less reliable."
   ]
  },
  {
   "cell_type": "code",
   "execution_count": 2,
   "metadata": {},
   "outputs": [],
   "source": [
    "# Public tutorial endpoint\n",
    "tutorial_endpoint_id = \"4b116d3c-1703-4f8f-9f6f-39921e5864df\"\n",
    "\n",
    "# ID of endpoint running in a Docker container (replace this with the ID you get from\n",
    "# running the \"globus-compute-endpoint start example_endpoint\" in the Docker container)\n",
    "example_endpoint_id = \"3baaffbd-0378-4eff-8a5b-6243c7f717d5\"  # REPLACE THIS\n",
    "\n",
    "ENDPOINT_ID = example_endpoint_id  # tutorial_endpoint_id"
   ]
  },
  {
   "cell_type": "markdown",
   "metadata": {},
   "source": [
    "#### Create the Client and Executor"
   ]
  },
  {
   "cell_type": "code",
   "execution_count": 3,
   "metadata": {},
   "outputs": [
    {
     "name": "stdout",
     "output_type": "stream",
     "text": [
      "Endpoint status: {'details': {'total_workers': 12, 'idle_workers': 12, 'pending_tasks': 0, 'outstanding_tasks': 0, 'managers': 1, 'active_managers': 1, 'new_core_hrs': 0, 'scheduler_mode': 0, 'rp_processed_timestamp': '1718918515.797614', 'min_blocks': 0, 'total_core_hrs': 0, 'worker_mode': 0, 'cores_per_worker': 1.0, 'scaling_enabled': True, 'max_blocks': 1, 'nodes_per_block': 1, 'prefetch_capacity': 0, 'heartbeat_period': 30, 'mem_per_worker': None, 'total_mem': 0, 'max_workers_per_node': 'Infinity', 'total_cores': 0}, 'status': 'online'}\n"
     ]
    }
   ],
   "source": [
    "gc = Client(code_serialization_strategy=CombinedCode())\n",
    "\n",
    "# Get some information about the endpoint\n",
    "print(f\"Endpoint status: {gc.get_endpoint_status(ENDPOINT_ID)}\")\n",
    "\n",
    "gce = Executor(endpoint_id=ENDPOINT_ID, client=gc)"
   ]
  },
  {
   "cell_type": "markdown",
   "metadata": {},
   "source": [
    "#### \"Hello World\" example"
   ]
  },
  {
   "cell_type": "code",
   "execution_count": 4,
   "metadata": {},
   "outputs": [
    {
     "name": "stdout",
     "output_type": "stream",
     "text": [
      "Submitting 'hello world' task\n",
      "waiting 2 secs for job to finish running\n",
      "Result available:\n",
      "Hello World!\n"
     ]
    }
   ],
   "source": [
    "def hello_world():\n",
    "    \"A simple 'hello world' function to demonstrate running FaaS with Globus Compute\"\n",
    "    return \"Hello World!\"\n",
    "\n",
    "\n",
    "print(\"Submitting 'hello world' task\")\n",
    "future = gce.submit(hello_world)\n",
    "\n",
    "while not future.done():\n",
    "    print(\"waiting 2 secs for job to finish running\")\n",
    "    time.sleep(2)\n",
    "\n",
    "print(\"Result available:\")\n",
    "print(future.result())"
   ]
  },
  {
   "cell_type": "markdown",
   "metadata": {},
   "source": [
    "#### Catching Errors"
   ]
  },
  {
   "cell_type": "code",
   "execution_count": 5,
   "metadata": {},
   "outputs": [
    {
     "name": "stdout",
     "output_type": "stream",
     "text": [
      "Globus Compute returned an exception: \n",
      " Traceback (most recent call last):\n",
      "   File \"/var/folders/d3/99xlftrn42b1_dy400jkmlpr0000gn/T/ipykernel_77878/3911509638.py\", line 117, in division_by_zero\n",
      " ZeroDivisionError: division by zero\n",
      "\n"
     ]
    }
   ],
   "source": [
    "def division_by_zero():\n",
    "    return 5 / 0  # This will raise a ZeroDivisionError\n",
    "\n",
    "\n",
    "future = gce.submit(division_by_zero)\n",
    "\n",
    "try:\n",
    "    future.result()\n",
    "except Exception as exc:\n",
    "    print(f\"Globus Compute returned an exception: {exc}\")"
   ]
  },
  {
   "cell_type": "markdown",
   "metadata": {},
   "source": [
    "#### Adding arguments\n",
    "You can add simple arguments to function calls. They must be serializable using the standard Python \"Dill\" library, and they must be small in size"
   ]
  },
  {
   "cell_type": "code",
   "execution_count": 6,
   "metadata": {},
   "outputs": [
    {
     "name": "stdout",
     "output_type": "stream",
     "text": [
      "10 + 5 = 15\n"
     ]
    }
   ],
   "source": [
    "def get_sum(a, b):\n",
    "    return a + b\n",
    "\n",
    "future = gce.submit(get_sum, 10, 5)\n",
    "print(f\"10 + 5 = {future.result()}\")"
   ]
  },
  {
   "cell_type": "markdown",
   "metadata": {},
   "source": [
    "#### Using dependencies in functions\n",
    "When you submit functions to run, any dependencies must be imported in the body of the function, and they must be installed in the Python environment that's running on the endpoint."
   ]
  },
  {
   "cell_type": "code",
   "execution_count": 7,
   "metadata": {},
   "outputs": [
    {
     "name": "stdout",
     "output_type": "stream",
     "text": [
      "Date fetched from endpoint: 2024-06-20\n"
     ]
    }
   ],
   "source": [
    "def get_date():\n",
    "    from datetime import date\n",
    "    return date.today()\n",
    "\n",
    "future = gce.submit(get_date)\n",
    "\n",
    "print(f\"Date fetched from endpoint: {future.result()}\")"
   ]
  },
  {
   "cell_type": "code",
   "execution_count": 8,
   "metadata": {},
   "outputs": [
    {
     "name": "stdout",
     "output_type": "stream",
     "text": [
      "Globus Compute returned an exception: \n",
      " Traceback (most recent call last):\n",
      "   File \"/var/folders/d3/99xlftrn42b1_dy400jkmlpr0000gn/T/ipykernel_77878/3799816297.py\", line 6, in get_random_numpy_array_mean\n",
      " ModuleNotFoundError: No module named 'numpy'\n",
      "\n"
     ]
    }
   ],
   "source": [
    "def get_random_numpy_array_mean():\n",
    "    \"\"\" This function will throw an error because numpy isn't installed in the Python\n",
    "    environment on the remote endpoint\n",
    "    \"\"\"\n",
    "    import numpy as np\n",
    "    random_array = np.random.rand(100, 100)\n",
    "    return np.mean(random_array)\n",
    "\n",
    "future = gce.submit(get_random_numpy_array_mean)\n",
    "\n",
    "try:\n",
    "    print(f\"Mean of random array = {future.result()}\")\n",
    "except Exception as exc:\n",
    "    print(f\"Globus Compute returned an exception: {exc}\")"
   ]
  },
  {
   "cell_type": "markdown",
   "metadata": {},
   "source": [
    "#### Running external processes\n",
    "You can also run external processes on the Endpoint"
   ]
  },
  {
   "cell_type": "code",
   "execution_count": 9,
   "metadata": {},
   "outputs": [
    {
     "name": "stdout",
     "output_type": "stream",
     "text": [
      "User on remote Endpoint:  root\n",
      "\n"
     ]
    }
   ],
   "source": [
    "def print_uname():\n",
    "    \"\"\" This will return \"root\" because the Python process on the endpoint is running as\n",
    "    the \"root\" user in the Docker container\n",
    "    \"\"\"\n",
    "    import os\n",
    "    return os.popen(\"whoami\").read()\n",
    "\n",
    "future = gce.submit(print_uname)\n",
    "\n",
    "print(\"User on remote Endpoint: \", future.result())"
   ]
  }
 ],
 "metadata": {
  "kernelspec": {
   "display_name": "globus_compute",
   "language": "python",
   "name": "python3"
  },
  "language_info": {
   "codemirror_mode": {
    "name": "ipython",
    "version": 3
   },
   "file_extension": ".py",
   "mimetype": "text/x-python",
   "name": "python",
   "nbconvert_exporter": "python",
   "pygments_lexer": "ipython3",
   "version": "3.10.14"
  }
 },
 "nbformat": 4,
 "nbformat_minor": 2
}
